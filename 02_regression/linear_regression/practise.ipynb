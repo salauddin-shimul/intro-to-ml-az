{
 "cells": [
  {
   "cell_type": "markdown",
   "id": "07833a54",
   "metadata": {},
   "source": [
    "# Linear Regression"
   ]
  },
  {
   "cell_type": "code",
   "execution_count": null,
   "id": "c2a88666",
   "metadata": {},
   "outputs": [],
   "source": [
    "import matplotlib.pyplot as plt\n",
    "import matplotlib.patches as mpatches\n",
    "\n",
    "# Create the site map diagram for CareMate\n",
    "fig, ax = plt.subplots(figsize=(10, 8))\n",
    "ax.set_xlim(0, 10)\n",
    "ax.set_ylim(0, 12)\n",
    "ax.axis('off')\n",
    "\n",
    "# Nodes for the sitemap\n",
    "nodes = {\n",
    "    \"Home\": (5, 11),\n",
    "    \"Login/Register\": (2, 9),\n",
    "    \"Doctor Lookup\": (5, 9),\n",
    "    \"Appointment Booking\": (8, 9),\n",
    "    \"Medicine Catalogue\": (3.5, 7),\n",
    "    \"Medicine Cart/Checkout\": (6.5, 7),\n",
    "    \"Tracker\": (2, 5),\n",
    "    \"User Dashboard\": (5, 5),\n",
    "    \"Profile\": (8, 5),\n",
    "    \"Admin Dashboard\": (5, 3),\n",
    "    \"Manage Doctors\": (3, 1),\n",
    "    \"Manage Medicines\": (7, 1)\n",
    "}\n",
    "\n",
    "# Draw nodes\n",
    "for label, (x, y) in nodes.items():\n",
    "    ax.add_patch(mpatches.FancyBboxPatch((x-1, y-0.4), 2, 0.8,\n",
    "                                         boxstyle=\"round,pad=0.02\",\n",
    "                                         fc=\"lightblue\", ec=\"navy\"))\n",
    "    ax.text(x, y, label, ha=\"center\", va=\"center\", fontsize=9, weight=\"bold\")\n",
    "\n",
    "# Connections\n",
    "connections = [\n",
    "    (\"Home\", \"Login/Register\"),\n",
    "    (\"Home\", \"Doctor Lookup\"),\n",
    "    (\"Home\", \"Appointment Booking\"),\n",
    "    (\"Home\", \"Medicine Catalogue\"),\n",
    "    (\"Home\", \"Medicine Cart/Checkout\"),\n",
    "    (\"Home\", \"Tracker\"),\n",
    "    (\"Home\", \"User Dashboard\"),\n",
    "    (\"Home\", \"Profile\"),\n",
    "    (\"User Dashboard\", \"Admin Dashboard\"),\n",
    "    (\"Admin Dashboard\", \"Manage Doctors\"),\n",
    "    (\"Admin Dashboard\", \"Manage Medicines\")\n",
    "]\n",
    "\n",
    "for start, end in connections:\n",
    "    x1, y1 = nodes[start]\n",
    "    x2, y2 = nodes[end]\n",
    "    ax.annotate(\"\", xy=(x2, y2+0.4 if y2<y1 else y2-0.4),\n",
    "                xytext=(x1, y1-0.4 if y2<y1 else y1+0.4),\n",
    "                arrowprops=dict(arrowstyle=\"->\", lw=1.5, color=\"black\"))\n",
    "\n",
    "plt.title(\"CareMate Site Map\", fontsize=14, weight=\"bold\")\n",
    "plt.show()\n",
    "\n"
   ]
  }
 ],
 "metadata": {
  "kernelspec": {
   "display_name": "base",
   "language": "python",
   "name": "python3"
  },
  "language_info": {
   "codemirror_mode": {
    "name": "ipython",
    "version": 3
   },
   "file_extension": ".py",
   "mimetype": "text/x-python",
   "name": "python",
   "nbconvert_exporter": "python",
   "pygments_lexer": "ipython3",
   "version": "3.13.5"
  }
 },
 "nbformat": 4,
 "nbformat_minor": 5
}
